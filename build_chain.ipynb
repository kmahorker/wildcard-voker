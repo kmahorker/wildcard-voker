{
 "cells": [
  {
   "cell_type": "markdown",
   "metadata": {},
   "source": [
    "# Build a Voker Chain\n",
    "\n",
    "This notebook provides a template for building custom Voker Chains using Wildcard integrations.\n",
    "\n",
    "You can use this notebook to:\n",
    "- Set up an email automation workflow\n",
    "- Modify the chain's behavior by adjusting prompts and logic\n",
    "- Create your own custom chains for different email automation needs\n",
    "- Test and iterate on your automated email workflows"
   ]
  },
  {
   "cell_type": "markdown",
   "metadata": {},
   "source": [
    "## Setup"
   ]
  },
  {
   "cell_type": "markdown",
   "metadata": {},
   "source": [
    "### Install Dependencies"
   ]
  },
  {
   "cell_type": "code",
   "execution_count": null,
   "metadata": {},
   "outputs": [],
   "source": [
    "%pip install -r voker_service/requirements.txt\n",
    "%pip install -i https://test.pypi.org/simple/ wildcard-openai==0.0.23 --extra-index-url https://pypi.org/simple/"
   ]
  },
  {
   "cell_type": "markdown",
   "metadata": {},
   "source": [
    "### Add OpenAI API Key"
   ]
  },
  {
   "cell_type": "code",
   "execution_count": 7,
   "metadata": {},
   "outputs": [],
   "source": [
    "import os\n",
    "os.environ[\"OPENAI_API_KEY\"] = \"\" # PASTE YOUR OPENAI API KEY HERE"
   ]
  },
  {
   "cell_type": "code",
   "execution_count": 8,
   "metadata": {},
   "outputs": [],
   "source": [
    "import sys\n",
    "sys.path.append(os.path.abspath(\".\"))"
   ]
  },
  {
   "cell_type": "markdown",
   "metadata": {},
   "source": [
    "## Authentication Credentials\n",
    "1. Go to https://wildcard-voker.vercel.app\n",
    "\n",
    "2. Click on \"Connect\"\n",
    "\n",
    "3. Use the demo account credentials. Username: logan.midchainsolutions@gmail.com Password: DemoPassword1!!\n",
    "\n",
    "4. _Note: Connecting accounts only works with Gmail accounts approved to our Google App. If there's a specific Gmail account you want to use, please reach out to us._\n",
    "\n",
    "5. Copy response and set it to `output` below"
   ]
  },
  {
   "cell_type": "code",
   "execution_count": 16,
   "metadata": {},
   "outputs": [],
   "source": [
    "import auth_config\n",
    "import json\n",
    "output = \"\"\"{\"message\":\"Token received successfully.\",\"data\":{\"api_service\":\"gmail\",\"token_type\":\"Bearer\",\"access_token\":\"ya29.a0ARW5m76hyRB25rV-GQy62NedeTAvGFMhOPkYRmyNSD6kUbqhLDfvzRyWobBRLzd2XcC45_fDTNttJARBvFR2KQ_D0bulPqMVSfy-2Xu2isze6_10bfPQk_fPn94cuL35-NbQ7AHwUVwL38P_ODVMHNJpkbR-1xqClBCQiHcUSYk5QBSJyGSmofi8qd-q6g1f3JuUaCgYKAeoSARISFQHGX2Mi3wO7EKrXiE6pJk0n0xMQ0A0203\",\"scope\":[\"https://www.googleapis.com/auth/gmail.modify\",\"https://www.googleapis.com/auth/gmail.addons.current.message.readonly\",\"https://www.googleapis.com/auth/gmail.readonly\",\"https://mail.google.com/\",\"https://www.googleapis.com/auth/gmail.settings.sharing\",\"https://www.googleapis.com/auth/gmail.labels\",\"https://www.googleapis.com/auth/gmail.insert\",\"https://www.googleapis.com/auth/gmail.addons.current.action.compose\",\"https://www.googleapis.com/auth/gmail.compose\",\"https://www.googleapis.com/auth/gmail.send\",\"https://www.googleapis.com/auth/gmail.settings.basic\",\"https://www.googleapis.com/auth/gmail.addons.current.message.action\"],\"expires_at\":1735271627,\"refresh_token\":null}}\"\"\""
   ]
  },
  {
   "cell_type": "code",
   "execution_count": 17,
   "metadata": {},
   "outputs": [],
   "source": [
    "output = json.loads(output)\n",
    "auth_config = auth_config.AuthConfig(output[\"data\"]).get_gmail_auth_config()"
   ]
  },
  {
   "cell_type": "markdown",
   "metadata": {},
   "source": [
    "## Voker Chain"
   ]
  },
  {
   "cell_type": "markdown",
   "metadata": {},
   "source": [
    "### Define Voker Inputs\n",
    "Define variables that can be injected into vokers as `@<variable_name>`\n"
   ]
  },
  {
   "cell_type": "code",
   "execution_count": 18,
   "metadata": {},
   "outputs": [],
   "source": [
    "voker_inputs = {\n",
    "    \"email_address\": \"logan.midchainsolutions@gmail.com\",\n",
    "    \"name\": \"Logan\",\n",
    "    \"order_number\": \"832493284\"\n",
    "}"
   ]
  },
  {
   "cell_type": "markdown",
   "metadata": {},
   "source": [
    "### Create a system prompt\n",
    "This is used to give common context to each of the vokers. It can be an empty string if you don't need it."
   ]
  },
  {
   "cell_type": "code",
   "execution_count": 19,
   "metadata": {},
   "outputs": [],
   "source": [
    "voker_system_prompt = \"\"\"The users name is @name. His email is @email_address.\n",
    "Perform the action specified by the user.\"\"\""
   ]
  },
  {
   "cell_type": "markdown",
   "metadata": {},
   "source": [
    "### Define Voker Chain\n",
    "Specify the tool actions and the prompts for each voker in the chain.\n",
    "\n",
    "\n",
    "You can see a full list of available Gmail Actions here: https://docs.wild-card.ai/docs/gmail-actions"
   ]
  },
  {
   "cell_type": "code",
   "execution_count": 22,
   "metadata": {},
   "outputs": [],
   "source": [
    "from wildcard_core.models import Action\n",
    "\n",
    "# A list of vokers that will be run in sequence\n",
    "voker_chain = [\n",
    "    {\n",
    "        \"message\": \"\"\"Search for the messages in inbox that are about the order number @order_number. \n",
    "        I should have received a few emails.\n",
    "        You should only return the thread ids.\n",
    "        \"\"\",\n",
    "        \"tool_name\": Action.Gmail.THREADS_LIST,\n",
    "    },\n",
    "    {\n",
    "        \"message\": \"\"\"You have been given a set of message ids. \n",
    "        Get one of the emails and understand the proposal and the vendor's price.\"\"\",\n",
    "        \"tool_name\": Action.Gmail.THREADS_GET,\n",
    "\n",
    "    },\n",
    "    {\n",
    "        \"message\": \"\"\"You have been given a set of thread ids. \n",
    "         Get one of the emails and understand the proposal and the vendor's price.\"\"\",\n",
    "        \"tool_name\": Action.Gmail.MESSAGES_GET,\n",
    "    },\n",
    "    {\n",
    "        \"message\": \"\"\"Analyze the email that you have received.\n",
    "        Create a draft that is a reply to the corresponding email. Include the threadId when you are creating the draft. \n",
    "        In the draft, negotiate the price, delivery time, and unit size of the proposal from the vendor.\n",
    "        \"\"\",\n",
    "        \"tool_name\": Action.Gmail.DRAFTS_CREATE,\n",
    "    }\n",
    "]"
   ]
  },
  {
   "cell_type": "markdown",
   "metadata": {},
   "source": [
    "### Run Voker Chain"
   ]
  },
  {
   "cell_type": "code",
   "execution_count": null,
   "metadata": {},
   "outputs": [],
   "source": [
    "from voker_service.wildcard_node import run_single_voker\n",
    "\n",
    "messages = []\n",
    "for voker in voker_chain:\n",
    "    messages.append({\"role\": \"user\", \"content\": voker[\"message\"]})\n",
    "    messages = await run_single_voker(voker, voker_system_prompt, auth_config, messages, voker_inputs)"
   ]
  },
  {
   "cell_type": "markdown",
   "metadata": {},
   "source": [
    "## Deterministic Integrations\n",
    "Use this when you DON'T want to use function calling and want to run an integration that has fixed inputs.\n",
    "\n",
    "**See `Auth Credentials` to setup authentication before running.**\n",
    "\n"
   ]
  },
  {
   "cell_type": "code",
   "execution_count": null,
   "metadata": {},
   "outputs": [],
   "source": [
    "from wildcard_core.models import Action\n",
    "from voker_service.wildcard_node import init_tool_node\n",
    "\n",
    "# Select the tool to run - We've selected the tool to list messages\n",
    "tool_name = Action.Gmail.MESSAGES_LIST\n",
    "\n",
    "# Initialize the tool node\n",
    "tool_client, _ = await init_tool_node(tool_name, auth_config, \"\")\n",
    "\n",
    "# Run the tool with arguments\n",
    "arguments = {\n",
    "    \"userId\": \"me\",\n",
    "    \"q\": \"from:priya.globalroute@gmail.com\" # List messages with query - from Priya\n",
    "}\n",
    "    \n",
    "await tool_client.run_tool_with_args(tool_name, **arguments)"
   ]
  },
  {
   "cell_type": "markdown",
   "metadata": {},
   "source": [
    "### Hybrid Chains — Deterministic Integrations within a Voker Chain\n",
    "This example shows how to include deterministic integrations in a Voker Chain."
   ]
  },
  {
   "cell_type": "code",
   "execution_count": 26,
   "metadata": {},
   "outputs": [],
   "source": [
    "# Define deterministic integration\n",
    "list_emails_step = {\n",
    "    \"tool_name\": Action.Gmail.MESSAGES_LIST,\n",
    "    \"arguments\": {\n",
    "        \"userId\": \"me\",\n",
    "        \"q\": \"from:priya.globalroute@gmail.com\"\n",
    "    }\n",
    "}"
   ]
  },
  {
   "cell_type": "code",
   "execution_count": 27,
   "metadata": {},
   "outputs": [],
   "source": [
    "voker_step_1 = {\n",
    "    \"message\": \"\"\"You've been given a list of emails. \n",
    "    Get the content of one of the emails. \n",
    "    And create a message that negotiates the price, delivery time, and unit size of the proposal from the vendor.\n",
    "    \"\"\",\n",
    "    \"tool_name\": Action.Gmail.MESSAGES_GET,\n",
    "}"
   ]
  },
  {
   "cell_type": "code",
   "execution_count": 28,
   "metadata": {},
   "outputs": [],
   "source": [
    "voker_step_2 = {\n",
    "    \"message\": \"\"\"You've been given the content of an email. \n",
    "    Create a draft that is a reply to the corresponding email. Include the threadId when you are creating the draft.\n",
    "    \"\"\",\n",
    "    \"tool_name\": Action.Gmail.DRAFTS_CREATE,\n",
    "}"
   ]
  },
  {
   "cell_type": "code",
   "execution_count": 29,
   "metadata": {},
   "outputs": [],
   "source": [
    "steps = [list_emails_step, voker_step_1, voker_step_2]"
   ]
  },
  {
   "cell_type": "markdown",
   "metadata": {},
   "source": [
    "#### Run Hybrid Chain"
   ]
  },
  {
   "cell_type": "code",
   "execution_count": null,
   "metadata": {},
   "outputs": [],
   "source": [
    "messages = []\n",
    "for step in steps:\n",
    "    if \"message\" in step:\n",
    "        messages.append({\"role\": \"user\", \"content\": step[\"message\"]})\n",
    "        messages = await run_single_voker(step, voker_system_prompt, auth_config, messages)\n",
    "    else:\n",
    "        tool_response = await tool_client.run_tool_with_args(step[\"tool_name\"], **step[\"arguments\"])\n",
    "        messages.append({\"role\": \"user\", \"content\": json.dumps(tool_response)})\n",
    "    \n",
    "    print(messages[-1]) # Print the last message"
   ]
  }
 ],
 "metadata": {
  "kernelspec": {
   "display_name": "locenv1",
   "language": "python",
   "name": "python3"
  },
  "language_info": {
   "codemirror_mode": {
    "name": "ipython",
    "version": 3
   },
   "file_extension": ".py",
   "mimetype": "text/x-python",
   "name": "python",
   "nbconvert_exporter": "python",
   "pygments_lexer": "ipython3",
   "version": "3.12.4"
  }
 },
 "nbformat": 4,
 "nbformat_minor": 2
}
